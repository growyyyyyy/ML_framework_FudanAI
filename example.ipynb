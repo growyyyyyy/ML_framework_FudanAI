{
 "cells": [
  {
   "cell_type": "markdown",
   "id": "d58eb317",
   "metadata": {},
   "source": [
    "## 加载数据 & DAG"
   ]
  },
  {
   "cell_type": "code",
   "execution_count": 1,
   "id": "e388872a",
   "metadata": {},
   "outputs": [],
   "source": [
    "causal_graph = \"\"\"digraph {\n",
    "HighlyDissatisfied[label=\"Highly Dissatisfied\", color = \"green\",style=\"filled\"];\n",
    "Churn[label=\"Churning out\", color = \"red\",style=\"filled\"];\n",
    "Complain[label=\"Complaint or not\", color = \"green\",style=\"filled\"];\n",
    "DaySinceLastOrder[label=\"Days since Last order\"];\n",
    "CityTier[label=\"City Tier\"];\n",
    "OrderCount[label=\"Order Count\"];\n",
    "CouponUsed[label=\"Coupon Used\"];\n",
    "Tenure[label=\"Tenure with E Commerce\"];\n",
    "WarehouseToHome[label=\"Warehouse to Home Distance\"];\n",
    "CashBackAmount[label=\"Average Cashback in last month\"];\n",
    "OrderAmountHikeFromlastYear[label=\"Percentage increases in order from last year\"];\n",
    "PreferredLoginDevice[label=\"Preferred Login Device\"];\n",
    "HourSpendOnApp[label=\"Total Hours Spend on App\"];\n",
    "NumberOfAddress[label=\"Number of Addresses\"];\n",
    "NumberOfDeviceRegistered[label=\"Number of device registered\"];\n",
    "U[label=\"Unobserved Confounders\",observed=\"no\"];\n",
    "\n",
    "U->{HighlyDissatisfied, CityTier, Tenure, CouponUsed, WarehouseToHome,PreferredLoginDevice};\n",
    "HighlyDissatisfied -> Churn;\n",
    "Complain -> {Churn, HighlyDissatisfied};\n",
    "DaySinceLastOrder -> {Churn,OrderCount};\n",
    "CityTier -> OrderCount;\n",
    "CouponUsed -> {OrderCount,OrderAmountHikeFromlastYear};\n",
    "OrderCount -> OrderAmountHikeFromlastYear;\n",
    "OrderAmountHikeFromlastYear -> Churn;\n",
    "Tenure -> OrderAmountHikeFromlastYear;\n",
    "WarehouseToHome -> CityTier;\n",
    "CashBackAmount -> OrderCount;\n",
    "PreferredLoginDevice -> HourSpendOnApp;\n",
    "HourSpendOnApp -> OrderCount;\n",
    "NumberOfAddress -> NumberOfDeviceRegistered;\n",
    "NumberOfDeviceRegistered -> OrderCount;\n",
    "}\"\"\""
   ]
  },
  {
   "cell_type": "code",
   "execution_count": 2,
   "id": "dc3d01f5",
   "metadata": {},
   "outputs": [
    {
     "ename": "ModuleNotFoundError",
     "evalue": "No module named 'identification'",
     "output_type": "error",
     "traceback": [
      "\u001b[31m---------------------------------------------------------------------------\u001b[39m",
      "\u001b[31mModuleNotFoundError\u001b[39m                       Traceback (most recent call last)",
      "\u001b[36mCell\u001b[39m\u001b[36m \u001b[39m\u001b[32mIn[2]\u001b[39m\u001b[32m, line 3\u001b[39m\n\u001b[32m      1\u001b[39m \u001b[38;5;28;01mfrom\u001b[39;00m\u001b[38;5;250m \u001b[39m\u001b[34;01msrc\u001b[39;00m\u001b[34;01m.\u001b[39;00m\u001b[34;01mdata\u001b[39;00m\u001b[38;5;250m \u001b[39m\u001b[38;5;28;01mimport\u001b[39;00m load_and_clean\n\u001b[32m      2\u001b[39m \u001b[38;5;28;01mfrom\u001b[39;00m\u001b[38;5;250m \u001b[39m\u001b[34;01msrc\u001b[39;00m\u001b[34;01m.\u001b[39;00m\u001b[34;01mgraph\u001b[39;00m\u001b[38;5;250m \u001b[39m\u001b[38;5;28;01mimport\u001b[39;00m CausalDAG\n\u001b[32m----> \u001b[39m\u001b[32m3\u001b[39m \u001b[38;5;28;01mfrom\u001b[39;00m\u001b[38;5;250m \u001b[39m\u001b[34;01msrc\u001b[39;00m\u001b[34;01m.\u001b[39;00m\u001b[34;01mmodel\u001b[39;00m\u001b[38;5;250m \u001b[39m\u001b[38;5;28;01mimport\u001b[39;00m CausalModel\n\u001b[32m      5\u001b[39m df = load_and_clean(\u001b[33m\"\u001b[39m\u001b[33me_commerce/EComm.csv\u001b[39m\u001b[33m\"\u001b[39m)\n\u001b[32m      6\u001b[39m dag = CausalDAG.from_dot(causal_graph)\n",
      "\u001b[36mFile \u001b[39m\u001b[32m~/ML_framework_FudanAI/src/model.py:1\u001b[39m\n\u001b[32m----> \u001b[39m\u001b[32m1\u001b[39m \u001b[38;5;28;01mfrom\u001b[39;00m\u001b[38;5;250m \u001b[39m\u001b[34;01midentification\u001b[39;00m\u001b[38;5;250m \u001b[39m\u001b[38;5;28;01mimport\u001b[39;00m select_backdoor\n\u001b[32m      2\u001b[39m \u001b[38;5;28;01mfrom\u001b[39;00m\u001b[38;5;250m \u001b[39m\u001b[34;01mestimation\u001b[39;00m\u001b[38;5;250m \u001b[39m\u001b[38;5;28;01mimport\u001b[39;00m PropensityScoreWeighting\n\u001b[32m      3\u001b[39m \u001b[38;5;28;01mfrom\u001b[39;00m\u001b[38;5;250m \u001b[39m\u001b[34;01mrefutation\u001b[39;00m\u001b[38;5;250m \u001b[39m\u001b[38;5;28;01mimport\u001b[39;00m add_random_confounder, subset_refuter\n",
      "\u001b[31mModuleNotFoundError\u001b[39m: No module named 'identification'"
     ]
    }
   ],
   "source": [
    "\n",
    "from src.data import load_and_clean\n",
    "from src.graph import CausalDAG\n",
    "from src.model import CausalModel\n",
    "\n",
    "df = load_and_clean(\"e_commerce/EComm.csv\")\n",
    "dag = CausalDAG.from_dot(causal_graph)\n",
    "dag.to_png(\"causal_model.png\")"
   ]
  },
  {
   "cell_type": "markdown",
   "id": "6ede0062",
   "metadata": {},
   "source": [
    "## causal_graph\n"
   ]
  },
  {
   "cell_type": "code",
   "execution_count": null,
   "id": "4eb6b01c",
   "metadata": {},
   "outputs": [],
   "source": [
    "cm = CausalModel(df, dag, treatment=\"HighlyDissatisfied\", outcome=\"Churn\")\n",
    "adj = cm.identify_effect()            # 取出后门集\n",
    "ate, ci = cm.estimate_effect()         # PSW 估计\n",
    "print(\"ATE:\", ate, \"CI:\", ci)\n",
    "print(\"Random common cause refute:\", cm.refute('random_common'))\n",
    "print(\"Subset refute:\", cm.refute('subset', frac=0.8))"
   ]
  },
  {
   "cell_type": "markdown",
   "id": "9cfb67c8",
   "metadata": {},
   "source": [
    "## 可视化"
   ]
  },
  {
   "cell_type": "code",
   "execution_count": null,
   "id": "d94f9ff6",
   "metadata": {},
   "outputs": [],
   "source": [
    "import matplotlib.pyplot as plt\n",
    "plt.errorbar([0], [ate], yerr=[[ate-ci[0]], [ci[1]-ate]], fmt='o')\n",
    "plt.xticks([0], ['Dissatisfied→Churn'])\n",
    "plt.show()"
   ]
  }
 ],
 "metadata": {
  "kernelspec": {
   "display_name": ".venv",
   "language": "python",
   "name": "python3"
  },
  "language_info": {
   "codemirror_mode": {
    "name": "ipython",
    "version": 3
   },
   "file_extension": ".py",
   "mimetype": "text/x-python",
   "name": "python",
   "nbconvert_exporter": "python",
   "pygments_lexer": "ipython3",
   "version": "3.11.2"
  }
 },
 "nbformat": 4,
 "nbformat_minor": 5
}
