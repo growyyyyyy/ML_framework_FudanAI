{
 "cells": [
  {
   "cell_type": "markdown",
   "id": "d58eb317",
   "metadata": {},
   "source": [
    "## 加载数据 & DAG"
   ]
  },
  {
   "cell_type": "code",
   "execution_count": 1,
   "id": "e388872a",
   "metadata": {},
   "outputs": [],
   "source": [
    "causal_graph = \"\"\"digraph G {\n",
    "  HighlyDissatisfied [label=\"Highly Dissatisfied\", color=\"green\", style=\"filled\"];\n",
    "  Churn              [label=\"Churning out\",         color=\"red\",   style=\"filled\"];\n",
    "  Complain           [label=\"Complaint or not\",     color=\"green\", style=\"filled\"];\n",
    "  DaySinceLastOrder  [label=\"Days since Last order\"];\n",
    "  CityTier           [label=\"City Tier\"];\n",
    "  OrderCount         [label=\"Order Count\"];\n",
    "  CouponUsed         [label=\"Coupon Used\"];\n",
    "  Tenure             [label=\"Tenure with E Commerce\"];\n",
    "  WarehouseToHome    [label=\"Warehouse to Home Distance\"];\n",
    "  CashBackAmount     [label=\"Average Cashback in last month\"];\n",
    "  OrderAmountHikeFromlastYear [label=\"Percentage increases in order from last year\"];\n",
    "  PreferredLoginDevice        [label=\"Preferred Login Device\"];\n",
    "  HourSpendOnApp              [label=\"Total Hours Spend on App\"];\n",
    "  NumberOfAddress             [label=\"Number of Addresses\"];\n",
    "  NumberOfDeviceRegistered    [label=\"Number of device registered\"];\n",
    "  U [label=\"Unobserved Confounders\", observed=\"false\"];\n",
    "\n",
    "  U -> HighlyDissatisfied;\n",
    "  U -> CityTier;\n",
    "  U -> Tenure;\n",
    "  U -> CouponUsed;\n",
    "  U -> WarehouseToHome;\n",
    "  U -> PreferredLoginDevice;\n",
    "\n",
    "  HighlyDissatisfied -> Churn;\n",
    "  Complain -> Churn;\n",
    "  Complain -> HighlyDissatisfied;\n",
    "  DaySinceLastOrder -> Churn;\n",
    "  DaySinceLastOrder -> OrderCount;\n",
    "  CityTier -> OrderCount;\n",
    "  CouponUsed -> OrderCount;\n",
    "  CouponUsed -> OrderAmountHikeFromlastYear;\n",
    "  OrderCount -> OrderAmountHikeFromlastYear;\n",
    "  OrderAmountHikeFromlastYear -> Churn;\n",
    "  Tenure -> OrderAmountHikeFromlastYear;\n",
    "  WarehouseToHome -> CityTier;\n",
    "  CashBackAmount -> OrderCount;\n",
    "  PreferredLoginDevice -> HourSpendOnApp;\n",
    "  HourSpendOnApp -> OrderCount;\n",
    "  NumberOfAddress -> NumberOfDeviceRegistered;\n",
    "  NumberOfDeviceRegistered -> OrderCount;\n",
    "}\"\"\""
   ]
  },
  {
   "cell_type": "code",
   "execution_count": 2,
   "id": "dc3d01f5",
   "metadata": {},
   "outputs": [],
   "source": [
    "\n",
    "from src.data import load_and_clean\n",
    "from src.graph import CausalDAG\n",
    "from src.model import CausalModel\n",
    "\n",
    "df = load_and_clean(\"/Users/growy/ML_framework_FudanAI/e_commerce/EComm.csv\")\n",
    "dag = CausalDAG.from_dot(causal_graph)\n",
    "dag.to_png(\"causal_model.png\")"
   ]
  },
  {
   "cell_type": "markdown",
   "id": "6ede0062",
   "metadata": {},
   "source": [
    "## causal_graph\n"
   ]
  },
  {
   "cell_type": "code",
   "execution_count": 3,
   "id": "4eb6b01c",
   "metadata": {},
   "outputs": [
    {
     "ename": "AttributeError",
     "evalue": "'CausalDAG' object has no attribute 'g'",
     "output_type": "error",
     "traceback": [
      "\u001b[31m---------------------------------------------------------------------------\u001b[39m",
      "\u001b[31mAttributeError\u001b[39m                            Traceback (most recent call last)",
      "\u001b[36mCell\u001b[39m\u001b[36m \u001b[39m\u001b[32mIn[3]\u001b[39m\u001b[32m, line 2\u001b[39m\n\u001b[32m      1\u001b[39m cm = CausalModel(df, dag, treatment=\u001b[33m\"\u001b[39m\u001b[33mHighlyDissatisfied\u001b[39m\u001b[33m\"\u001b[39m, outcome=\u001b[33m\"\u001b[39m\u001b[33mChurn\u001b[39m\u001b[33m\"\u001b[39m)\n\u001b[32m----> \u001b[39m\u001b[32m2\u001b[39m adj = \u001b[43mcm\u001b[49m\u001b[43m.\u001b[49m\u001b[43midentify_effect\u001b[49m\u001b[43m(\u001b[49m\u001b[43m)\u001b[49m            \u001b[38;5;66;03m# 取出后门集\u001b[39;00m\n\u001b[32m      3\u001b[39m ate, ci = cm.estimate_effect()         \u001b[38;5;66;03m# PSW 估计\u001b[39;00m\n\u001b[32m      4\u001b[39m \u001b[38;5;28mprint\u001b[39m(\u001b[33m\"\u001b[39m\u001b[33mATE:\u001b[39m\u001b[33m\"\u001b[39m, ate, \u001b[33m\"\u001b[39m\u001b[33mCI:\u001b[39m\u001b[33m\"\u001b[39m, ci)\n",
      "\u001b[36mFile \u001b[39m\u001b[32m~/ML_framework_FudanAI/src/model.py:11\u001b[39m, in \u001b[36mCausalModel.identify_effect\u001b[39m\u001b[34m(self)\u001b[39m\n\u001b[32m     10\u001b[39m \u001b[38;5;28;01mdef\u001b[39;00m\u001b[38;5;250m \u001b[39m\u001b[34midentify_effect\u001b[39m(\u001b[38;5;28mself\u001b[39m):\n\u001b[32m---> \u001b[39m\u001b[32m11\u001b[39m     \u001b[38;5;28mself\u001b[39m.adjustment_set = \u001b[43mselect_backdoor\u001b[49m\u001b[43m(\u001b[49m\u001b[38;5;28;43mself\u001b[39;49m\u001b[43m.\u001b[49m\u001b[43mdag\u001b[49m\u001b[43m,\u001b[49m\u001b[43m \u001b[49m\u001b[38;5;28;43mself\u001b[39;49m\u001b[43m.\u001b[49m\u001b[43mtreatment\u001b[49m\u001b[43m,\u001b[49m\u001b[43m \u001b[49m\u001b[38;5;28;43mself\u001b[39;49m\u001b[43m.\u001b[49m\u001b[43moutcome\u001b[49m\u001b[43m)\u001b[49m\n\u001b[32m     12\u001b[39m     \u001b[38;5;28;01mreturn\u001b[39;00m \u001b[38;5;28mself\u001b[39m.adjustment_set\n",
      "\u001b[36mFile \u001b[39m\u001b[32m~/ML_framework_FudanAI/src/identification.py:6\u001b[39m, in \u001b[36mselect_backdoor\u001b[39m\u001b[34m(dag, treat, outcome)\u001b[39m\n\u001b[32m      5\u001b[39m \u001b[38;5;28;01mdef\u001b[39;00m\u001b[38;5;250m \u001b[39m\u001b[34mselect_backdoor\u001b[39m(dag: CausalDAG, treat: \u001b[38;5;28mstr\u001b[39m, outcome: \u001b[38;5;28mstr\u001b[39m):\n\u001b[32m----> \u001b[39m\u001b[32m6\u001b[39m     G = \u001b[43mdag\u001b[49m\u001b[43m.\u001b[49m\u001b[43mg\u001b[49m.to_undirected()\n\u001b[32m      7\u001b[39m     backdoors = \u001b[38;5;28mset\u001b[39m()\n\u001b[32m      8\u001b[39m     \u001b[38;5;28;01mfor\u001b[39;00m path \u001b[38;5;129;01min\u001b[39;00m nx.all_simple_paths(G, source=treat, target=outcome):\n\u001b[32m      9\u001b[39m         \u001b[38;5;66;03m# 要求第一步是反向边 treat<-X\u001b[39;00m\n",
      "\u001b[31mAttributeError\u001b[39m: 'CausalDAG' object has no attribute 'g'"
     ]
    }
   ],
   "source": [
    "cm = CausalModel(df, dag, treatment=\"HighlyDissatisfied\", outcome=\"Churn\")\n",
    "adj = cm.identify_effect()            # 取出后门集\n",
    "ate, ci = cm.estimate_effect()         # PSW 估计\n",
    "print(\"ATE:\", ate, \"CI:\", ci)\n",
    "print(\"Random common cause refute:\", cm.refute('random_common'))\n",
    "print(\"Subset refute:\", cm.refute('subset', frac=0.8))"
   ]
  },
  {
   "cell_type": "markdown",
   "id": "9cfb67c8",
   "metadata": {},
   "source": [
    "## 可视化"
   ]
  },
  {
   "cell_type": "code",
   "execution_count": null,
   "id": "d94f9ff6",
   "metadata": {},
   "outputs": [],
   "source": [
    "import matplotlib.pyplot as plt\n",
    "plt.errorbar([0], [ate], yerr=[[ate-ci[0]], [ci[1]-ate]], fmt='o')\n",
    "plt.xticks([0], ['Dissatisfied→Churn'])\n",
    "plt.show()"
   ]
  }
 ],
 "metadata": {
  "kernelspec": {
   "display_name": ".venv",
   "language": "python",
   "name": "python3"
  },
  "language_info": {
   "codemirror_mode": {
    "name": "ipython",
    "version": 3
   },
   "file_extension": ".py",
   "mimetype": "text/x-python",
   "name": "python",
   "nbconvert_exporter": "python",
   "pygments_lexer": "ipython3",
   "version": "3.11.2"
  }
 },
 "nbformat": 4,
 "nbformat_minor": 5
}
