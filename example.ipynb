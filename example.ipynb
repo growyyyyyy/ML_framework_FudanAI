{
 "cells": [
  {
   "cell_type": "markdown",
   "id": "d58eb317",
   "metadata": {},
   "source": [
    "## 加载数据 & DAG"
   ]
  },
  {
   "cell_type": "code",
   "execution_count": 1,
   "id": "e388872a",
   "metadata": {},
   "outputs": [],
   "source": [
    "causal_graph = \"\"\"digraph G {\n",
    "  HighlyDissatisfied [label=\"Highly Dissatisfied\", color=\"green\", style=\"filled\"];\n",
    "  Churn              [label=\"Churning out\",         color=\"red\",   style=\"filled\"];\n",
    "  Complain           [label=\"Complaint or not\",     color=\"green\", style=\"filled\"];\n",
    "  DaySinceLastOrder  [label=\"Days since Last order\"];\n",
    "  CityTier           [label=\"City Tier\"];\n",
    "  OrderCount         [label=\"Order Count\"];\n",
    "  CouponUsed         [label=\"Coupon Used\"];\n",
    "  Tenure             [label=\"Tenure with E Commerce\"];\n",
    "  WarehouseToHome    [label=\"Warehouse to Home Distance\"];\n",
    "  CashBackAmount     [label=\"Average Cashback in last month\"];\n",
    "  OrderAmountHikeFromlastYear [label=\"Percentage increases in order from last year\"];\n",
    "  PreferredLoginDevice        [label=\"Preferred Login Device\"];\n",
    "  HourSpendOnApp              [label=\"Total Hours Spend on App\"];\n",
    "  NumberOfAddress             [label=\"Number of Addresses\"];\n",
    "  NumberOfDeviceRegistered    [label=\"Number of device registered\"];\n",
    "  U [label=\"Unobserved Confounders\", observed=\"false\"];\n",
    "\n",
    "  U -> HighlyDissatisfied;\n",
    "  U -> CityTier;\n",
    "  U -> Tenure;\n",
    "  U -> CouponUsed;\n",
    "  U -> WarehouseToHome;\n",
    "  U -> PreferredLoginDevice;\n",
    "\n",
    "  HighlyDissatisfied -> Churn;\n",
    "  Complain -> Churn;\n",
    "  Complain -> HighlyDissatisfied;\n",
    "  DaySinceLastOrder -> Churn;\n",
    "  DaySinceLastOrder -> OrderCount;\n",
    "  CityTier -> OrderCount;\n",
    "  CouponUsed -> OrderCount;\n",
    "  CouponUsed -> OrderAmountHikeFromlastYear;\n",
    "  OrderCount -> OrderAmountHikeFromlastYear;\n",
    "  OrderAmountHikeFromlastYear -> Churn;\n",
    "  Tenure -> OrderAmountHikeFromlastYear;\n",
    "  WarehouseToHome -> CityTier;\n",
    "  CashBackAmount -> OrderCount;\n",
    "  PreferredLoginDevice -> HourSpendOnApp;\n",
    "  HourSpendOnApp -> OrderCount;\n",
    "  NumberOfAddress -> NumberOfDeviceRegistered;\n",
    "  NumberOfDeviceRegistered -> OrderCount;\n",
    "}\"\"\""
   ]
  },
  {
   "cell_type": "code",
   "execution_count": 4,
   "id": "dc3d01f5",
   "metadata": {},
   "outputs": [],
   "source": [
    "\n",
    "from src.data import load_and_clean, preprocess_ecommerce_data\n",
    "from src.graph import CausalDAG\n",
    "from src.model import CausalModel\n",
    "\n",
    "df_raw = load_and_clean(\"e_commerce/EComm.csv\")\n",
    "df = preprocess_ecommerce_data(df_raw)\n",
    "\n",
    "dag = CausalDAG.from_dot(causal_graph)\n",
    "dag.to_png(\"causal_model.png\")"
   ]
  },
  {
   "cell_type": "markdown",
   "id": "6ede0062",
   "metadata": {},
   "source": [
    "## causal_graph\n"
   ]
  },
  {
   "cell_type": "code",
   "execution_count": 5,
   "id": "4eb6b01c",
   "metadata": {},
   "outputs": [
    {
     "name": "stdout",
     "output_type": "stream",
     "text": [
      "ATE: -0.07826779088996595 CI: (np.float64(-0.09868405898102761), np.float64(-0.059235883107810736))\n",
      "Random common cause refute: {'orig': np.float64(-0.07826779088996595), 'new': np.float64(-0.07845397854044216)}\n",
      "Subset refute: {'orig': np.float64(-0.07826779088996595), 'new': np.float64(-0.08132372871648685)}\n"
     ]
    }
   ],
   "source": [
    "cm = CausalModel(df, dag, treatment=\"HighlyDissatisfied\", outcome=\"Churn\")\n",
    "adj = cm.identify_effect()            # 取出后门集\n",
    "ate, ci = cm.estimate_effect()         # PSW 估计\n",
    "print(\"ATE:\", ate, \"CI:\", ci)\n",
    "print(\"Random common cause refute:\", cm.refute('random_common'))\n",
    "print(\"Subset refute:\", cm.refute('subset', frac=0.8))"
   ]
  },
  {
   "cell_type": "markdown",
   "id": "9cfb67c8",
   "metadata": {},
   "source": [
    "## 可视化"
   ]
  },
  {
   "cell_type": "code",
   "execution_count": 6,
   "id": "d94f9ff6",
   "metadata": {},
   "outputs": [
    {
     "data": {
      "image/png": "[encoded data removed]",
      "text/plain": [
       "<Figure size 640x480 with 1 Axes>"
      ]
     },
     "metadata": {},
     "output_type": "display_data"
    }
   ],
   "source": [
    "import matplotlib.pyplot as plt\n",
    "plt.errorbar([0], [ate], yerr=[[ate-ci[0]], [ci[1]-ate]], fmt='o')\n",
    "plt.xticks([0], ['Dissatisfied→Churn'])\n",
    "plt.show()"
   ]
  }
 ],
 "metadata": {
  "kernelspec": {
   "display_name": "mlsys",
   "language": "python",
   "name": "mlsys"
  },
  "language_info": {
   "codemirror_mode": {
    "name": "ipython",
    "version": 3
   },
   "file_extension": ".py",
   "mimetype": "text/x-python",
   "name": "python",
   "nbconvert_exporter": "python",
   "pygments_lexer": "ipython3",
   "version": "3.11.12"
  }
 },
 "nbformat": 4,
 "nbformat_minor": 5
}
